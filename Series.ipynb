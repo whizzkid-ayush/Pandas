{
 "cells": [
  {
   "cell_type": "code",
   "execution_count": 3,
   "id": "88e037f9-9751-43b8-aa8b-4bea821b38c6",
   "metadata": {},
   "outputs": [],
   "source": [
    "import numpy as np\n",
    "import pandas as pd"
   ]
  },
  {
   "cell_type": "code",
   "execution_count": 5,
   "id": "c14db788-90f8-4708-b882-5abcd0219925",
   "metadata": {},
   "outputs": [
    {
     "data": {
      "text/plain": [
       "0     5\n",
       "1     7\n",
       "2     9\n",
       "3    12\n",
       "dtype: int64"
      ]
     },
     "execution_count": 5,
     "metadata": {},
     "output_type": "execute_result"
    }
   ],
   "source": [
    "my_series = [5,7,9,12]\n",
    "my_var = pd.Series(my_series)\n",
    "my_var"
   ]
  },
  {
   "cell_type": "code",
   "execution_count": 7,
   "id": "b6014675-6a01-47e1-903b-0cd3bd7de551",
   "metadata": {},
   "outputs": [],
   "source": [
    "#Print specific value "
   ]
  },
  {
   "cell_type": "code",
   "execution_count": 17,
   "id": "673189a3-28ba-41da-bea5-fa3e9c77423b",
   "metadata": {},
   "outputs": [
    {
     "data": {
      "text/plain": [
       "9"
      ]
     },
     "execution_count": 17,
     "metadata": {},
     "output_type": "execute_result"
    }
   ],
   "source": [
    "my_var[2]"
   ]
  },
  {
   "cell_type": "code",
   "execution_count": 18,
   "id": "38b8285b-349a-49a8-881d-4b971d0b0685",
   "metadata": {},
   "outputs": [],
   "source": [
    "#Labels using index argument"
   ]
  },
  {
   "cell_type": "code",
   "execution_count": 19,
   "id": "c8e2f5bd-97f9-45e0-ae58-39460efe4ea2",
   "metadata": {},
   "outputs": [
    {
     "data": {
      "text/plain": [
       "A     5\n",
       "B     7\n",
       "C     9\n",
       "D    12\n",
       "dtype: int64"
      ]
     },
     "execution_count": 19,
     "metadata": {},
     "output_type": "execute_result"
    }
   ],
   "source": [
    "my_index = [\"A\", \"B\", \"C\", \"D\" ]\n",
    "myvar2 = pd.Series(my_series, my_index)\n",
    "myvar2"
   ]
  },
  {
   "cell_type": "code",
   "execution_count": 21,
   "id": "89654348-7502-4240-9023-2febf53a21df",
   "metadata": {},
   "outputs": [
    {
     "data": {
      "text/plain": [
       "7"
      ]
     },
     "execution_count": 21,
     "metadata": {},
     "output_type": "execute_result"
    }
   ],
   "source": [
    "myvar2[\"B\"]"
   ]
  },
  {
   "cell_type": "code",
   "execution_count": null,
   "id": "1fd6b7db-ae85-40d5-a0fb-0f6051c74e1e",
   "metadata": {},
   "outputs": [],
   "source": [
    "Key Value Dictionary"
   ]
  },
  {
   "cell_type": "code",
   "execution_count": 23,
   "id": "24d5cfe4-c8a0-4366-a109-5b91adbe71b3",
   "metadata": {},
   "outputs": [
    {
     "data": {
      "text/plain": [
       "Tesla       12\n",
       "Mercedes    42\n",
       "BMW          3\n",
       "dtype: int64"
      ]
     },
     "execution_count": 23,
     "metadata": {},
     "output_type": "execute_result"
    }
   ],
   "source": [
    "cars = {\"Tesla\":12,\"Mercedes\":42,\"BMW\":3}\n",
    "my_var3 = pd.Series(cars)\n",
    "my_var3"
   ]
  },
  {
   "cell_type": "code",
   "execution_count": null,
   "id": "516e11e9-0917-4920-8db7-8573f8a84fa0",
   "metadata": {},
   "outputs": [],
   "source": []
  }
 ],
 "metadata": {
  "kernelspec": {
   "display_name": "Python 3 (ipykernel)",
   "language": "python",
   "name": "python3"
  },
  "language_info": {
   "codemirror_mode": {
    "name": "ipython",
    "version": 3
   },
   "file_extension": ".py",
   "mimetype": "text/x-python",
   "name": "python",
   "nbconvert_exporter": "python",
   "pygments_lexer": "ipython3",
   "version": "3.11.2"
  }
 },
 "nbformat": 4,
 "nbformat_minor": 5
}
